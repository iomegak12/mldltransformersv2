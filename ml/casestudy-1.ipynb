{
 "cells": [
  {
   "cell_type": "code",
   "execution_count": 1,
   "metadata": {},
   "outputs": [],
   "source": [
    "import numpy as np\n",
    "import pandas as pd\n",
    "import seaborn as sns\n",
    "import matplotlib.pyplot as plt\n",
    "import plotly.express as px\n",
    "import plotly.graph_objects as go\n",
    "\n",
    "from plotly.subplots import make_subplots\n",
    "from utils import outlier as ot\n",
    "from xgboost import XGBRegressor\n",
    "from lightgbm import LGBMRegressor\n",
    "\n",
    "from sklearn.model_selection import train_test_split, RandomizedSearchCV\n",
    "from sklearn.compose import ColumnTransformer\n",
    "from sklearn.pipeline import Pipeline\n",
    "from sklearn.preprocessing import OneHotEncoder, StandardScaler\n",
    "from sklearn.metrics import r2_score, mean_squared_error, mean_absolute_error"
   ]
  },
  {
   "cell_type": "code",
   "execution_count": null,
   "metadata": {},
   "outputs": [],
   "source": [
    "df = pd.read_csv(\"data/House_Rent_Dataset.csv\", parse_dates=[\"Posted On\"])\n",
    "\n",
    "df.head()"
   ]
  },
  {
   "cell_type": "code",
   "execution_count": null,
   "metadata": {},
   "outputs": [],
   "source": [
    "df[\"Rental Floor\"] = df[\"Floor\"].apply(lambda x: x.split(\" out of \")[0])\n",
    "df[\"Total Number of Floor\"] = df[\"Floor\"].apply(lambda x: x.split(\" out of \")[-1])\n",
    "\n",
    "df.sample(5)"
   ]
  },
  {
   "cell_type": "code",
   "execution_count": null,
   "metadata": {},
   "outputs": [],
   "source": [
    "df[\"Rental Floor\"].unique()"
   ]
  },
  {
   "cell_type": "code",
   "execution_count": null,
   "metadata": {},
   "outputs": [],
   "source": [
    "df[\"Total Number of Floor\"].unique()"
   ]
  },
  {
   "cell_type": "code",
   "execution_count": null,
   "metadata": {},
   "outputs": [],
   "source": [
    "df[\"Rental Floor\"] = df[\"Rental Floor\"].replace([\"Ground\", \"Upper Basement\", \"Lower Basement\"], [0, -1, -2]).astype(int)\n",
    "df[\"Total Number of Floor\"] = df[\"Total Number of Floor\"].replace(\"Ground\", 0).astype(int)\n",
    "\n",
    "df.drop(columns=\"Floor\", inplace=True)\n",
    "df.sample()"
   ]
  },
  {
   "cell_type": "code",
   "execution_count": null,
   "metadata": {},
   "outputs": [],
   "source": [
    "num_var = [\"Rental Floor\", \"Total Number of Floor\"]\n",
    "fig, axes = plt.subplots(1, 2, figsize=(12,7))\n",
    "\n",
    "for num, ax in zip(num_var, axes.flatten()):\n",
    "    sns.histplot(x=num, data=df, ax=ax)"
   ]
  },
  {
   "cell_type": "code",
   "execution_count": null,
   "metadata": {},
   "outputs": [],
   "source": [
    "cat_var = [\"Area Type\", \"Furnishing Status\", \"Tenant Preferred\", \"Point of Contact\"]\n",
    "fig, axes = plt.subplots(2, 2, figsize=(12,10))\n",
    "\n",
    "for cat, ax in zip(cat_var, axes.flatten()):\n",
    "    sns.countplot(x=cat, data=df, ax=ax)"
   ]
  },
  {
   "cell_type": "code",
   "execution_count": 9,
   "metadata": {},
   "outputs": [],
   "source": [
    "df.replace(to_replace=[\"Built Area\", \"Contact Builder\"], \n",
    "           value=[\"Super Area\", \"Contact Owner\"], inplace=True)"
   ]
  },
  {
   "cell_type": "code",
   "execution_count": null,
   "metadata": {},
   "outputs": [],
   "source": [
    "area_mean = df.query(\"BHK + Bathroom == 4\").groupby(\"Area Type\", as_index=False).mean(numeric_only=True)\n",
    "area_mean"
   ]
  },
  {
   "cell_type": "code",
   "execution_count": null,
   "metadata": {},
   "outputs": [],
   "source": [
    "carpet_area_size = area_mean.loc[0, \"Size\"]\n",
    "super_area_size = area_mean.loc[1, \"Size\"]\n",
    "area_per_multi = (super_area_size - carpet_area_size) / carpet_area_size + 1 #area prcentage multiplier\n",
    "area_per_multi"
   ]
  },
  {
   "cell_type": "code",
   "execution_count": null,
   "metadata": {},
   "outputs": [],
   "source": [
    "fixed_size = df.query(\"`Area Type` == 'Carpet Area'\")[\"Size\"].apply(lambda x: x * area_per_multi)\n",
    "df[\"Fixed Size\"] = np.round(fixed_size, 2)\n",
    "df[\"Fixed Size\"].fillna(df[\"Size\"], inplace=True)\n",
    "df.head()"
   ]
  },
  {
   "cell_type": "code",
   "execution_count": 13,
   "metadata": {},
   "outputs": [],
   "source": [
    "df.drop(columns=[\"Area Locality\", \"Posted On\"], inplace=True)"
   ]
  },
  {
   "cell_type": "code",
   "execution_count": null,
   "metadata": {},
   "outputs": [],
   "source": [
    "fig = make_subplots(rows=1, cols=2, specs=[[{'type':'domain'}, {'type':'xy'}]])\n",
    "\n",
    "fig.add_trace(go.Pie(labels = df[\"Point of Contact\"] ,name=\"Point of Contact\", textinfo='percent+label', textposition='inside', marker=dict(line=dict(color='white', width=1))),row=1, col=1)\n",
    "fig.add_trace(go.Histogram(x = df[\"Point of Contact\"],name=\"Point of Contact\"),row=1, col=2)\n",
    "\n",
    "fig.update_layout(showlegend=False, title=\"Point of Contact\", title_x=.5)\n",
    "\n",
    "fig.show()"
   ]
  },
  {
   "cell_type": "code",
   "execution_count": null,
   "metadata": {},
   "outputs": [],
   "source": [
    "fig = go.Figure()\n",
    "fig.add_trace(go.Histogram(x = df[\"City\"], name=\"City\", texttemplate=\"%{y}\")).update_xaxes(categoryorder='total descending')\n",
    "fig.update_layout(title=\"Total Number of Rental Houses in Cities\", title_x=.5)\n",
    "fig.show()"
   ]
  },
  {
   "cell_type": "code",
   "execution_count": null,
   "metadata": {},
   "outputs": [],
   "source": [
    "square_feet_rent = df[\"Rent\"]/df[\"Fixed Size\"]\n",
    "df[\"Square Feet Rent\"] = np.round(square_feet_rent, 2)\n",
    "df.head()"
   ]
  },
  {
   "cell_type": "code",
   "execution_count": null,
   "metadata": {},
   "outputs": [],
   "source": [
    "fig = px.box(df, x=\"Square Feet Rent\", color=\"City\")\n",
    "fig.show()"
   ]
  },
  {
   "cell_type": "code",
   "execution_count": null,
   "metadata": {},
   "outputs": [],
   "source": [
    "index = ot.outlier_detect_MAD(data=df, col=\"Square Feet Rent\", threshold=3.5)"
   ]
  },
  {
   "cell_type": "code",
   "execution_count": null,
   "metadata": {},
   "outputs": [],
   "source": [
    "df.loc[index, \"Square Feet Rent\"].sort_values()"
   ]
  },
  {
   "cell_type": "code",
   "execution_count": 20,
   "metadata": {},
   "outputs": [],
   "source": [
    "df = df.drop(df.query(\"`Square Feet Rent` > 57.94\").index)"
   ]
  },
  {
   "cell_type": "code",
   "execution_count": 21,
   "metadata": {},
   "outputs": [],
   "source": [
    "df.drop(columns = [\"Size\", \"Area Type\"], inplace = True)"
   ]
  },
  {
   "cell_type": "code",
   "execution_count": null,
   "metadata": {},
   "outputs": [],
   "source": [
    "sns.heatmap(df.corr(numeric_only=True), annot=True,);"
   ]
  },
  {
   "cell_type": "code",
   "execution_count": null,
   "metadata": {},
   "outputs": [],
   "source": [
    "X = df.drop(columns='Rent')\n",
    "y = df['Rent']\n",
    "\n",
    "X_train, X_test, y_train, y_test = train_test_split(X, y, test_size=0.25, shuffle=True, random_state=101)\n",
    "X_train.shape, X_test.shape"
   ]
  },
  {
   "cell_type": "code",
   "execution_count": null,
   "metadata": {},
   "outputs": [],
   "source": [
    "X_train.head()"
   ]
  },
  {
   "cell_type": "code",
   "execution_count": null,
   "metadata": {},
   "outputs": [],
   "source": [
    "cat_pipe = Pipeline([(\"encode\", OneHotEncoder(handle_unknown=\"ignore\"))])\n",
    "num_pipe = Pipeline([(\"scaler\", StandardScaler())])\n",
    "\n",
    "preprocessor = ColumnTransformer([\n",
    "    (\"numeric\", num_pipe, [0,4,6,7,8,9]),\n",
    "    (\"categoric\", cat_pipe, [1,2,3,5])\n",
    "])\n",
    "\n",
    "pipeline_xgbr = Pipeline([\n",
    "    ('prep', preprocessor),\n",
    "    ('algo', XGBRegressor())\n",
    "])\n",
    "\n",
    "pipeline_xgbr.fit(X_train,y_train)\n",
    "y_pred = pipeline_xgbr.predict(X_test)\n",
    "print(f\"Score    : {r2_score(y_test, y_pred)}\")\n",
    "print(f\"mae      : {mean_absolute_error(y_test, y_pred)}\")\n",
    "print(f\"root mse : {np.sqrt(mean_squared_error(y_test, y_pred))}\")"
   ]
  },
  {
   "cell_type": "code",
   "execution_count": null,
   "metadata": {},
   "outputs": [],
   "source": [
    "cat_pipe = Pipeline([(\"encode\", OneHotEncoder(handle_unknown=\"ignore\"))])\n",
    "num_pipe = Pipeline([(\"scaler\", StandardScaler())])\n",
    "\n",
    "preprocessor = ColumnTransformer([\n",
    "    (\"numeric\", num_pipe, [0,4,6,7,8,9]),\n",
    "    (\"categoric\", cat_pipe, [1,2,3,5])\n",
    "])\n",
    "\n",
    "pipeline_lgbm = Pipeline([\n",
    "    ('prep', preprocessor),\n",
    "    ('algo', LGBMRegressor())\n",
    "])\n",
    "\n",
    "pipeline_lgbm.fit(X_train,y_train)\n",
    "y_pred = pipeline_lgbm.predict(X_test)\n",
    "print(f\"Score    : {r2_score(y_test, y_pred)}\")\n",
    "print(f\"mae      : {mean_absolute_error(y_test, y_pred)}\")\n",
    "print(f\"root mse : {np.sqrt(mean_squared_error(y_test, y_pred))}\")"
   ]
  },
  {
   "cell_type": "code",
   "execution_count": 27,
   "metadata": {},
   "outputs": [],
   "source": [
    "from jcopml.tuning.space import Integer, Real"
   ]
  },
  {
   "cell_type": "code",
   "execution_count": 28,
   "metadata": {},
   "outputs": [],
   "source": [
    "params = {'algo__max_depth': Integer(low=1, high=10),\n",
    " 'algo__learning_rate': Real(low=-2, high=0, prior='log-uniform'),\n",
    " 'algo__n_estimators': Integer(low=100, high=200),\n",
    " 'algo__subsample': Real(low=0.3, high=0.8, prior='uniform'),\n",
    " 'algo__colsample_bytree': Real(low=0.1, high=1, prior='uniform'),\n",
    " 'algo__reg_alpha': Real(low=-3, high=1, prior='log-uniform'),\n",
    " 'algo__reg_lambda': Real(low=-3, high=1, prior='log-uniform')}"
   ]
  },
  {
   "cell_type": "code",
   "execution_count": null,
   "metadata": {},
   "outputs": [],
   "source": [
    "cat_pipe = Pipeline([(\"encode\", OneHotEncoder(handle_unknown=\"ignore\"))])\n",
    "num_pipe = Pipeline([(\"scaler\", StandardScaler())])\n",
    "\n",
    "preprocessor = ColumnTransformer([\n",
    "    (\"numeric\", num_pipe, [0,4,6,7,8,9]),\n",
    "    (\"categoric\", cat_pipe, [1,2,3,5])\n",
    "])\n",
    "\n",
    "pipeline = Pipeline([\n",
    "    ('prep', preprocessor),\n",
    "    ('algo', XGBRegressor())\n",
    "])\n",
    "    \n",
    "model = RandomizedSearchCV(pipeline, params, cv=3, n_iter=50, n_jobs=1, verbose=1, random_state=101)\n",
    "model.fit(X_train,y_train)\n",
    "\n",
    "y_pred = model.predict(X_test)\n",
    "\n",
    "print(f\"Score    : {r2_score(y_test, y_pred)}\")\n",
    "print(f\"mae      : {mean_absolute_error(y_test, y_pred)}\")\n",
    "print(f\"root mse : {np.sqrt(mean_squared_error(y_test, y_pred))}\")"
   ]
  },
  {
   "cell_type": "code",
   "execution_count": null,
   "metadata": {},
   "outputs": [],
   "source": [
    "X_train.head(2)"
   ]
  },
  {
   "cell_type": "code",
   "execution_count": null,
   "metadata": {},
   "outputs": [],
   "source": [
    "y_train.head(2)"
   ]
  },
  {
   "cell_type": "code",
   "execution_count": null,
   "metadata": {},
   "outputs": [],
   "source": [
    "columns = X_train.columns\n",
    "\n",
    "data = [[2, \"Hyderabad\", \"Unfurnished\", \"Bachelors/Family\", 2, \"Contact Owner\", 4, 12, 1000.0, 12.25]]\n",
    "data = pd.DataFrame(data=data, columns=columns)\n",
    "\n",
    "pred = pipeline_lgbm.predict(data)\n",
    "pred"
   ]
  },
  {
   "cell_type": "code",
   "execution_count": 33,
   "metadata": {},
   "outputs": [],
   "source": [
    "import pickle\n",
    "\n",
    "TARGET_MODEL_FILE = \"./FastAPI/app/lgbm_model.pkl\"\n",
    "\n",
    "with open(TARGET_MODEL_FILE, \"wb\") as f:\n",
    "    pickle.dump(pipeline_lgbm, f)"
   ]
  }
 ],
 "metadata": {
  "kernelspec": {
   "display_name": "env",
   "language": "python",
   "name": "python3"
  },
  "language_info": {
   "codemirror_mode": {
    "name": "ipython",
    "version": 3
   },
   "file_extension": ".py",
   "mimetype": "text/x-python",
   "name": "python",
   "nbconvert_exporter": "python",
   "pygments_lexer": "ipython3",
   "version": "3.13.1"
  }
 },
 "nbformat": 4,
 "nbformat_minor": 2
}
